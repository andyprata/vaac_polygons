{
 "cells": [
  {
   "cell_type": "code",
   "execution_count": 3,
   "id": "4e394da6",
   "metadata": {},
   "outputs": [],
   "source": [
    "# Import required modules\n",
    "import codecs\n",
    "import matplotlib.pyplot as plt\n",
    "from bs4 import BeautifulSoup"
   ]
  },
  {
   "cell_type": "code",
   "execution_count": 7,
   "id": "18157d56",
   "metadata": {},
   "outputs": [
    {
     "data": {
      "text/plain": [
       "[' VAA Text Start ',\n",
       " 'FVFE01 RJTD 010600',\n",
       " 'VA ADVISORY',\n",
       " 'DTG: 20200801/0600Z',\n",
       " 'VAAC: TOKYO',\n",
       " 'VOLCANO: NISHINOSHIMA 284096',\n",
       " 'PSN: N2715 E14052',\n",
       " 'AREA: JAPAN',\n",
       " 'SUMMIT ELEV: 25M',\n",
       " 'ADVISORY NR: 2020/184',\n",
       " 'INFO SOURCE: HIMAWARI-8',\n",
       " 'AVIATION COLOUR CODE: NIL',\n",
       " 'ERUPTION DETAILS: VA EMISSIONS CONTINUING',\n",
       " 'OBS VA DTG: 01/0520Z',\n",
       " 'OBS VA CLD: SFC/FL190 N2715 E14053 - N2330 E14230 - N2306 E14346 - ',\n",
       " 'N2224 E14302 - N2257 E13733 - N2508 E13624 - N2411 E13942 MOV S 10KT',\n",
       " 'FCST VA CLD +6 HR: 01/1120Z SFC/FL190 N2302 E14154 - N2238 E14318 - ',\n",
       " 'N2153 E14204 - N2249 E13622 - N2507 E13527 - N2405 E13849 - N2717 ',\n",
       " 'E14054',\n",
       " 'FCST VA CLD +12 HR: 01/1720Z SFC/FL190 N2704 E14116 - N2207 E14226 - ',\n",
       " 'N2121 E14056 - N2254 E13509 - N2519 E13413 - N2353 E13810 - N2717 ',\n",
       " 'E14056',\n",
       " 'FCST VA CLD +18 HR: 01/2320Z SFC/FL190 N2624 E14152 - N2144 E14122 - ',\n",
       " 'N2110 E13918 - N2249 E13422 - N2558 E13248 - N2400 E13736 - N2717 ',\n",
       " 'E14050',\n",
       " 'RMK: NIL',\n",
       " 'NXT ADVISORY: 20200801/1200Z=',\n",
       " ' VAA Text End ']"
      ]
     },
     "execution_count": 7,
     "metadata": {},
     "output_type": "execute_result"
    }
   ],
   "source": [
    "# Read in html data into a python list using bs4\n",
    "path_vaac = \"/home/aprata/vaac_data/tokyo/\"\n",
    "fn_vacc = \"20200801_28409600_0184_Text.html\"\n",
    "with codecs.open(path_vaac + fn_vacc, 'r') as f:\n",
    "    html = f.read()\n",
    "soup = BeautifulSoup(html, features=\"lxml\")\n",
    "div = soup.find('div')\n",
    "vaac = [str(s) for s in div.contents if str(s) != '<br/>' and str(s) != str('\\n')]\n",
    "# Print out VAAC info\n",
    "vaac"
   ]
  },
  {
   "cell_type": "code",
   "execution_count": 8,
   "id": "854f2ba7",
   "metadata": {},
   "outputs": [
    {
     "data": {
      "text/plain": [
       "['N2715 E14053 ',\n",
       " ' N2330 E14230 ',\n",
       " ' N2306 E14346 ',\n",
       " ' N2224 E14302 ',\n",
       " ' N2257 E13733 ',\n",
       " ' N2508 E13624 ',\n",
       " ' N2411 E13942']"
      ]
     },
     "execution_count": 8,
     "metadata": {},
     "output_type": "execute_result"
    }
   ],
   "source": [
    "# Important information is contained in list entries 14 and 15\n",
    "polygon = vaac[14] + vaac[15]\n",
    "coords = polygon[22:-11].split('-')\n",
    "coords"
   ]
  },
  {
   "cell_type": "code",
   "execution_count": 11,
   "id": "78174fca",
   "metadata": {},
   "outputs": [
    {
     "data": {
      "text/plain": [
       "([140.88333333333333,\n",
       "  142.5,\n",
       "  143.76666666666668,\n",
       "  143.03333333333333,\n",
       "  137.55,\n",
       "  136.4,\n",
       "  139.7,\n",
       "  140.88333333333333],\n",
       " [27.25,\n",
       "  23.5,\n",
       "  23.1,\n",
       "  22.4,\n",
       "  22.95,\n",
       "  25.133333333333333,\n",
       "  24.183333333333334,\n",
       "  27.25])"
      ]
     },
     "execution_count": 11,
     "metadata": {},
     "output_type": "execute_result"
    }
   ],
   "source": [
    "# Convert VAAC coords to decimals for plotting on a map\n",
    "lons_polygon = []\n",
    "lats_polygon = []\n",
    "\n",
    "for coord in coords:\n",
    "    lat_str, lon_str = coord.strip().split(' ')\n",
    "    lat_decimal, lon_decimal = float(lat_str[1:]) / 100., float(lon_str[1:]) / 100.\n",
    "    lat_split = '{0:.2f}'.format(lat_decimal).split('.')\n",
    "    lon_split = '{0:.2f}'.format(lon_decimal).split('.')\n",
    "    lat_float = float(lat_split[0]) + float(lat_split[1]) / 60.\n",
    "    lon_float = float(lon_split[0]) + float(lon_split[1]) / 60.\n",
    "    if \"E\" in lon_str:\n",
    "        lons_polygon.append(lon_float)\n",
    "    else:\n",
    "        lons_polygon.append(-lon_float)\n",
    "    if \"N\" in lat_str:\n",
    "        lats_polygon.append(lat_float)\n",
    "    else:\n",
    "        lats_polygon.append(-lat_float)\n",
    "\n",
    "lons_polygon.append(lons_polygon[0])\n",
    "lats_polygon.append(lats_polygon[0])\n",
    "lons_polygon, lats_polygon"
   ]
  },
  {
   "cell_type": "code",
   "execution_count": 13,
   "id": "7cc0ca7d",
   "metadata": {},
   "outputs": [
    {
     "data": {
      "image/png": "[encoded data removed]",
      "text/plain": [
       "<Figure size 432x288 with 1 Axes>"
      ]
     },
     "metadata": {
      "needs_background": "light"
     },
     "output_type": "display_data"
    }
   ],
   "source": [
    "# Plot the polygon\n",
    "plt.plot(lons_polygon, lats_polygon, 'o-')\n",
    "plt.xlabel('Longitude (deg)')\n",
    "plt.ylabel('Latitude (deg)')\n",
    "plt.show()"
   ]
  },
  {
   "cell_type": "code",
   "execution_count": null,
   "id": "e3219cf4",
   "metadata": {},
   "outputs": [],
   "source": []
  }
 ],
 "metadata": {
  "kernelspec": {
   "display_name": "Python 3",
   "language": "python",
   "name": "python3"
  },
  "language_info": {
   "codemirror_mode": {
    "name": "ipython",
    "version": 3
   },
   "file_extension": ".py",
   "mimetype": "text/x-python",
   "name": "python",
   "nbconvert_exporter": "python",
   "pygments_lexer": "ipython3",
   "version": "3.8.8"
  }
 },
 "nbformat": 4,
 "nbformat_minor": 5
}
